{
 "cells": [
  {
   "cell_type": "code",
   "execution_count": 7,
   "id": "e60da194",
   "metadata": {},
   "outputs": [],
   "source": [
    "import pandas as pd\n",
    "import requests"
   ]
  },
  {
   "cell_type": "code",
   "execution_count": 31,
   "id": "251661cb",
   "metadata": {},
   "outputs": [],
   "source": [
    "API_KEY = \"QCC4AQUW1ZKX4T7P\"\n",
    "symbol = \"TCS.BSE\""
   ]
  },
  {
   "cell_type": "code",
   "execution_count": 32,
   "id": "2b5f6e67",
   "metadata": {},
   "outputs": [],
   "source": [
    "url = f\"https://www.alphavantage.co/query?function=TIME_SERIES_DAILY&symbol=${symbol}&outputsize=full&apikey=${API_KEY}&datatype=csv\""
   ]
  },
  {
   "cell_type": "code",
   "execution_count": 20,
   "id": "77478163",
   "metadata": {},
   "outputs": [],
   "source": [
    "response = requests.get(url)"
   ]
  },
  {
   "cell_type": "code",
   "execution_count": 21,
   "id": "6ec220fa",
   "metadata": {},
   "outputs": [
    {
     "name": "stdout",
     "output_type": "stream",
     "text": [
      "Data saved to tcs_stock_data.csv\n"
     ]
    }
   ],
   "source": [
    "# print response\n",
    "if response.status_code == 200:\n",
    "    with open('tcs_stock_data.csv', 'wb') as file:\n",
    "        file.write(response.content)\n",
    "    print(\"Data saved to tcs_stock_data.csv\")\n"
   ]
  },
  {
   "cell_type": "code",
   "execution_count": 36,
   "id": "ee520c3e",
   "metadata": {},
   "outputs": [],
   "source": [
    "# store the data in a pandas dataframe\n",
    "df = pd.read_csv('tcs_stock_data.csv', index_col=0, parse_dates=True)"
   ]
  },
  {
   "cell_type": "code",
   "execution_count": 37,
   "id": "c6ae2836",
   "metadata": {},
   "outputs": [
    {
     "name": "stdout",
     "output_type": "stream",
     "text": [
      "                 open       high        low      close  volume\n",
      "timestamp                                                     \n",
      "2025-06-30  3444.9500  3465.0000  3430.1499  3461.0500   80588\n",
      "2025-07-01  3460.9500  3485.0000  3414.4500  3429.4500  221565\n",
      "2025-07-02  3450.0500  3489.8501  3420.1001  3423.3501   54493\n",
      "2025-07-03  3434.8999  3435.0000  3398.1499  3400.7500  113506\n",
      "2025-07-04  3401.1001  3426.0000  3388.6499  3420.9500  170988\n"
     ]
    }
   ],
   "source": [
    "df.index = pd.to_datetime(df.index)\n",
    "df = df.sort_index()\n",
    "print(df.tail())"
   ]
  },
  {
   "cell_type": "code",
   "execution_count": 38,
   "id": "9b01e5d0",
   "metadata": {},
   "outputs": [
    {
     "data": {
      "text/html": [
       "<div>\n",
       "<style scoped>\n",
       "    .dataframe tbody tr th:only-of-type {\n",
       "        vertical-align: middle;\n",
       "    }\n",
       "\n",
       "    .dataframe tbody tr th {\n",
       "        vertical-align: top;\n",
       "    }\n",
       "\n",
       "    .dataframe thead th {\n",
       "        text-align: right;\n",
       "    }\n",
       "</style>\n",
       "<table border=\"1\" class=\"dataframe\">\n",
       "  <thead>\n",
       "    <tr style=\"text-align: right;\">\n",
       "      <th></th>\n",
       "      <th>open</th>\n",
       "      <th>high</th>\n",
       "      <th>low</th>\n",
       "      <th>close</th>\n",
       "      <th>volume</th>\n",
       "    </tr>\n",
       "    <tr>\n",
       "      <th>timestamp</th>\n",
       "      <th></th>\n",
       "      <th></th>\n",
       "      <th></th>\n",
       "      <th></th>\n",
       "      <th></th>\n",
       "    </tr>\n",
       "  </thead>\n",
       "  <tbody>\n",
       "    <tr>\n",
       "      <th>2005-01-03</th>\n",
       "      <td>168.7250</td>\n",
       "      <td>169.7500</td>\n",
       "      <td>167.2814</td>\n",
       "      <td>169.1500</td>\n",
       "      <td>1185200</td>\n",
       "    </tr>\n",
       "    <tr>\n",
       "      <th>2005-01-04</th>\n",
       "      <td>168.8438</td>\n",
       "      <td>169.5000</td>\n",
       "      <td>166.7500</td>\n",
       "      <td>167.5438</td>\n",
       "      <td>1312656</td>\n",
       "    </tr>\n",
       "    <tr>\n",
       "      <th>2005-01-05</th>\n",
       "      <td>166.2500</td>\n",
       "      <td>167.2626</td>\n",
       "      <td>160.1250</td>\n",
       "      <td>165.6000</td>\n",
       "      <td>3669696</td>\n",
       "    </tr>\n",
       "    <tr>\n",
       "      <th>2005-01-06</th>\n",
       "      <td>165.8750</td>\n",
       "      <td>168.1250</td>\n",
       "      <td>161.5188</td>\n",
       "      <td>164.9876</td>\n",
       "      <td>3441640</td>\n",
       "    </tr>\n",
       "    <tr>\n",
       "      <th>2005-01-07</th>\n",
       "      <td>166.2500</td>\n",
       "      <td>168.0876</td>\n",
       "      <td>163.8876</td>\n",
       "      <td>167.4250</td>\n",
       "      <td>2627176</td>\n",
       "    </tr>\n",
       "  </tbody>\n",
       "</table>\n",
       "</div>"
      ],
      "text/plain": [
       "                open      high       low     close   volume\n",
       "timestamp                                                  \n",
       "2005-01-03  168.7250  169.7500  167.2814  169.1500  1185200\n",
       "2005-01-04  168.8438  169.5000  166.7500  167.5438  1312656\n",
       "2005-01-05  166.2500  167.2626  160.1250  165.6000  3669696\n",
       "2005-01-06  165.8750  168.1250  161.5188  164.9876  3441640\n",
       "2005-01-07  166.2500  168.0876  163.8876  167.4250  2627176"
      ]
     },
     "execution_count": 38,
     "metadata": {},
     "output_type": "execute_result"
    }
   ],
   "source": [
    "df.head()"
   ]
  },
  {
   "cell_type": "markdown",
   "id": "90970be7",
   "metadata": {},
   "source": [
    "Call api for downloading RSI indicator data"
   ]
  },
  {
   "cell_type": "code",
   "execution_count": 33,
   "id": "084544a4",
   "metadata": {},
   "outputs": [],
   "source": [
    "rsi_url = f\"https://www.alphavantage.co/query?function=RSI&symbol={symbol}&interval=daily&time_period=14&series_type=close&apikey={API_KEY}\"\n",
    "rsi_data = requests.get(rsi_url).json()\n",
    "\n",
    "rsi_df = pd.DataFrame.from_dict(rsi_data['Technical Analysis: RSI'], orient='index')\n",
    "rsi_df = rsi_df.rename(columns={'RSI': 'RSI'})\n",
    "rsi_df.index = pd.to_datetime(rsi_df.index)\n",
    "rsi_df = rsi_df.astype(float)\n"
   ]
  },
  {
   "cell_type": "code",
   "execution_count": 34,
   "id": "60961892",
   "metadata": {},
   "outputs": [
    {
     "data": {
      "text/html": [
       "<div>\n",
       "<style scoped>\n",
       "    .dataframe tbody tr th:only-of-type {\n",
       "        vertical-align: middle;\n",
       "    }\n",
       "\n",
       "    .dataframe tbody tr th {\n",
       "        vertical-align: top;\n",
       "    }\n",
       "\n",
       "    .dataframe thead th {\n",
       "        text-align: right;\n",
       "    }\n",
       "</style>\n",
       "<table border=\"1\" class=\"dataframe\">\n",
       "  <thead>\n",
       "    <tr style=\"text-align: right;\">\n",
       "      <th></th>\n",
       "      <th>RSI</th>\n",
       "    </tr>\n",
       "  </thead>\n",
       "  <tbody>\n",
       "    <tr>\n",
       "      <th>2005-01-24</th>\n",
       "      <td>13.8729</td>\n",
       "    </tr>\n",
       "    <tr>\n",
       "      <th>2005-01-25</th>\n",
       "      <td>20.8349</td>\n",
       "    </tr>\n",
       "    <tr>\n",
       "      <th>2005-01-27</th>\n",
       "      <td>22.9666</td>\n",
       "    </tr>\n",
       "    <tr>\n",
       "      <th>2005-01-28</th>\n",
       "      <td>40.9205</td>\n",
       "    </tr>\n",
       "    <tr>\n",
       "      <th>2005-01-31</th>\n",
       "      <td>43.9547</td>\n",
       "    </tr>\n",
       "  </tbody>\n",
       "</table>\n",
       "</div>"
      ],
      "text/plain": [
       "                RSI\n",
       "2005-01-24  13.8729\n",
       "2005-01-25  20.8349\n",
       "2005-01-27  22.9666\n",
       "2005-01-28  40.9205\n",
       "2005-01-31  43.9547"
      ]
     },
     "execution_count": 34,
     "metadata": {},
     "output_type": "execute_result"
    }
   ],
   "source": [
    "rsi_df.head()"
   ]
  },
  {
   "cell_type": "markdown",
   "id": "0a5ef450",
   "metadata": {},
   "source": [
    "Merge RSI data with main df"
   ]
  },
  {
   "cell_type": "code",
   "execution_count": 40,
   "id": "4832421d",
   "metadata": {},
   "outputs": [],
   "source": [
    "# Align dates and merge\n",
    "df = df.merge(rsi_df, how='left', left_index=True, right_index=True)\n",
    "df.dropna(inplace=True)\n"
   ]
  },
  {
   "cell_type": "code",
   "execution_count": 52,
   "id": "3a3904af",
   "metadata": {},
   "outputs": [
    {
     "data": {
      "text/html": [
       "<div>\n",
       "<style scoped>\n",
       "    .dataframe tbody tr th:only-of-type {\n",
       "        vertical-align: middle;\n",
       "    }\n",
       "\n",
       "    .dataframe tbody tr th {\n",
       "        vertical-align: top;\n",
       "    }\n",
       "\n",
       "    .dataframe thead th {\n",
       "        text-align: right;\n",
       "    }\n",
       "</style>\n",
       "<table border=\"1\" class=\"dataframe\">\n",
       "  <thead>\n",
       "    <tr style=\"text-align: right;\">\n",
       "      <th></th>\n",
       "      <th>open</th>\n",
       "      <th>high</th>\n",
       "      <th>low</th>\n",
       "      <th>close</th>\n",
       "      <th>volume</th>\n",
       "      <th>RSI_x</th>\n",
       "      <th>RSI_y</th>\n",
       "      <th>SMA</th>\n",
       "      <th>EMA</th>\n",
       "      <th>Real Upper Band</th>\n",
       "      <th>Real Middle Band</th>\n",
       "      <th>Real Lower Band</th>\n",
       "    </tr>\n",
       "    <tr>\n",
       "      <th>timestamp</th>\n",
       "      <th></th>\n",
       "      <th></th>\n",
       "      <th></th>\n",
       "      <th></th>\n",
       "      <th></th>\n",
       "      <th></th>\n",
       "      <th></th>\n",
       "      <th></th>\n",
       "      <th></th>\n",
       "      <th></th>\n",
       "      <th></th>\n",
       "      <th></th>\n",
       "    </tr>\n",
       "  </thead>\n",
       "  <tbody>\n",
       "    <tr>\n",
       "      <th>2005-02-01</th>\n",
       "      <td>163.125</td>\n",
       "      <td>165.1250</td>\n",
       "      <td>161.0000</td>\n",
       "      <td>164.4876</td>\n",
       "      <td>4152952</td>\n",
       "      <td>47.9975</td>\n",
       "      <td>47.9975</td>\n",
       "      <td>68.5229</td>\n",
       "      <td>69.1659</td>\n",
       "      <td>74.1247</td>\n",
       "      <td>69.9532</td>\n",
       "      <td>65.7818</td>\n",
       "    </tr>\n",
       "    <tr>\n",
       "      <th>2005-02-02</th>\n",
       "      <td>164.625</td>\n",
       "      <td>165.3750</td>\n",
       "      <td>162.6564</td>\n",
       "      <td>163.2064</td>\n",
       "      <td>2140728</td>\n",
       "      <td>45.6159</td>\n",
       "      <td>45.6159</td>\n",
       "      <td>68.5876</td>\n",
       "      <td>69.5611</td>\n",
       "      <td>73.7248</td>\n",
       "      <td>69.8244</td>\n",
       "      <td>65.9241</td>\n",
       "    </tr>\n",
       "    <tr>\n",
       "      <th>2005-02-03</th>\n",
       "      <td>163.625</td>\n",
       "      <td>164.2500</td>\n",
       "      <td>162.6500</td>\n",
       "      <td>163.7064</td>\n",
       "      <td>1440992</td>\n",
       "      <td>53.5370</td>\n",
       "      <td>53.5370</td>\n",
       "      <td>68.9326</td>\n",
       "      <td>70.0882</td>\n",
       "      <td>73.7042</td>\n",
       "      <td>69.8190</td>\n",
       "      <td>65.9339</td>\n",
       "    </tr>\n",
       "    <tr>\n",
       "      <th>2005-02-04</th>\n",
       "      <td>163.750</td>\n",
       "      <td>165.2312</td>\n",
       "      <td>162.7500</td>\n",
       "      <td>163.3188</td>\n",
       "      <td>834168</td>\n",
       "      <td>52.7357</td>\n",
       "      <td>52.7357</td>\n",
       "      <td>69.3048</td>\n",
       "      <td>70.5295</td>\n",
       "      <td>73.7958</td>\n",
       "      <td>69.8471</td>\n",
       "      <td>65.8985</td>\n",
       "    </tr>\n",
       "    <tr>\n",
       "      <th>2005-02-07</th>\n",
       "      <td>164.375</td>\n",
       "      <td>166.0000</td>\n",
       "      <td>162.6250</td>\n",
       "      <td>163.8876</td>\n",
       "      <td>1431688</td>\n",
       "      <td>53.8282</td>\n",
       "      <td>53.8282</td>\n",
       "      <td>69.7859</td>\n",
       "      <td>70.9410</td>\n",
       "      <td>73.9663</td>\n",
       "      <td>69.9011</td>\n",
       "      <td>65.8360</td>\n",
       "    </tr>\n",
       "  </tbody>\n",
       "</table>\n",
       "</div>"
      ],
      "text/plain": [
       "               open      high       low     close   volume    RSI_x    RSI_y  \\\n",
       "timestamp                                                                      \n",
       "2005-02-01  163.125  165.1250  161.0000  164.4876  4152952  47.9975  47.9975   \n",
       "2005-02-02  164.625  165.3750  162.6564  163.2064  2140728  45.6159  45.6159   \n",
       "2005-02-03  163.625  164.2500  162.6500  163.7064  1440992  53.5370  53.5370   \n",
       "2005-02-04  163.750  165.2312  162.7500  163.3188   834168  52.7357  52.7357   \n",
       "2005-02-07  164.375  166.0000  162.6250  163.8876  1431688  53.8282  53.8282   \n",
       "\n",
       "                SMA      EMA  Real Upper Band  Real Middle Band  \\\n",
       "timestamp                                                         \n",
       "2005-02-01  68.5229  69.1659          74.1247           69.9532   \n",
       "2005-02-02  68.5876  69.5611          73.7248           69.8244   \n",
       "2005-02-03  68.9326  70.0882          73.7042           69.8190   \n",
       "2005-02-04  69.3048  70.5295          73.7958           69.8471   \n",
       "2005-02-07  69.7859  70.9410          73.9663           69.9011   \n",
       "\n",
       "            Real Lower Band  \n",
       "timestamp                    \n",
       "2005-02-01          65.7818  \n",
       "2005-02-02          65.9241  \n",
       "2005-02-03          65.9339  \n",
       "2005-02-04          65.8985  \n",
       "2005-02-07          65.8360  "
      ]
     },
     "execution_count": 52,
     "metadata": {},
     "output_type": "execute_result"
    }
   ],
   "source": [
    "df.head()"
   ]
  },
  {
   "cell_type": "markdown",
   "id": "b8968e3e",
   "metadata": {},
   "source": [
    "Call api for downloading SMA indicator data and add it to main df"
   ]
  },
  {
   "cell_type": "code",
   "execution_count": 46,
   "id": "14341841",
   "metadata": {},
   "outputs": [],
   "source": [
    "sma_url = f\"https://www.alphavantage.co/query?function=SMA&symbol={symbol}&interval=daily&time_period=10&series_type=open&apikey={API_KEY}\"\n",
    "sma_data = requests.get(sma_url).json()\n",
    "sma_df = pd.DataFrame.from_dict(sma_data['Technical Analysis: SMA'], orient='index')\n",
    "sma_df = sma_df.astype(float)\n",
    "sma_df.index = pd.to_datetime(sma_df.index)\n",
    "df = df.merge(sma_df, how='left', left_index=True, right_index=True)\n",
    "df.dropna(inplace=True)"
   ]
  },
  {
   "cell_type": "markdown",
   "id": "e3a1780c",
   "metadata": {},
   "source": [
    "Call api for downloading EMA indicator data and add it to main df"
   ]
  },
  {
   "cell_type": "code",
   "execution_count": 49,
   "id": "c28fc2ce",
   "metadata": {},
   "outputs": [],
   "source": [
    "ema_url = f\"https://www.alphavantage.co/query?function=EMA&symbol={symbol}&interval=daily&time_period=10&series_type=open&apikey={API_KEY}\"\n",
    "ema_data = requests.get(ema_url).json()\n",
    "ema_df = pd.DataFrame.from_dict(ema_data['Technical Analysis: EMA'], orient='index')\n",
    "ema_df = ema_df.astype(float)\n",
    "ema_df.index = pd.to_datetime(ema_df.index)\n",
    "df = df.merge(ema_df, how='left', left_index=True, right_index=True)\n",
    "df.dropna(inplace=True)"
   ]
  },
  {
   "cell_type": "markdown",
   "id": "33d3f964",
   "metadata": {},
   "source": [
    "Call api for downloading BBANDS indicator data and add it to main df"
   ]
  },
  {
   "cell_type": "code",
   "execution_count": 51,
   "id": "95793ea0",
   "metadata": {},
   "outputs": [],
   "source": [
    "bbands_url = f\"https://www.alphavantage.co/query?function=BBANDS&symbol={symbol}&interval=daily&time_period=20&series_type=close&apikey={API_KEY}\"\n",
    "bbands_data = requests.get(bbands_url).json()\n",
    "\n",
    "bbands_df = pd.DataFrame.from_dict(bbands_data['Technical Analysis: BBANDS'], orient='index')\n",
    "bbands_df = bbands_df.astype(float)\n",
    "bbands_df.index = pd.to_datetime(bbands_df.index)\n",
    "\n",
    "# Merge Bollinger Bands with main dataframe\n",
    "df = df.merge(bbands_df, how='left', left_index=True, right_index=True)\n",
    "df.dropna(inplace=True)\n"
   ]
  },
  {
   "cell_type": "code",
   "execution_count": null,
   "id": "fb69a369",
   "metadata": {},
   "outputs": [],
   "source": []
  }
 ],
 "metadata": {
  "kernelspec": {
   "display_name": "Python 3",
   "language": "python",
   "name": "python3"
  },
  "language_info": {
   "codemirror_mode": {
    "name": "ipython",
    "version": 3
   },
   "file_extension": ".py",
   "mimetype": "text/x-python",
   "name": "python",
   "nbconvert_exporter": "python",
   "pygments_lexer": "ipython3",
   "version": "3.10.11"
  }
 },
 "nbformat": 4,
 "nbformat_minor": 5
}
