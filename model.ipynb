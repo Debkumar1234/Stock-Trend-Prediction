{
 "cells": [
  {
   "cell_type": "code",
   "execution_count": 56,
   "id": "e60da194",
   "metadata": {},
   "outputs": [],
   "source": [
    "import numpy as np\n",
    "import pandas as pd\n",
    "import pandas_ta as ta\n",
    "import requests\n",
    "from datetime import datetime, timedelta\n",
    "import matplotlib.pyplot as plt\n",
    "import nltk\n",
    "\n",
    "from sklearn.preprocessing import MinMaxScaler\n",
    "from sklearn.model_selection import train_test_split\n",
    "\n",
    "from sklearn.metrics import mean_absolute_error, mean_squared_error, r2_score\n",
    "\n",
    "from bs4 import BeautifulSoup\n",
    "from vaderSentiment.vaderSentiment import SentimentIntensityAnalyzer"
   ]
  },
  {
   "cell_type": "code",
   "execution_count": 57,
   "id": "fd7c50e2",
   "metadata": {},
   "outputs": [],
   "source": [
    "import tensorflow as tf\n",
    "from tensorflow.keras.models import Sequential\n",
    "from tensorflow.keras.layers import LSTM, Dense, Dropout\n",
    "from tensorflow.keras import backend as K\n",
    "from tensorflow.keras.callbacks import EarlyStopping"
   ]
  },
  {
   "cell_type": "code",
   "execution_count": 58,
   "id": "251661cb",
   "metadata": {},
   "outputs": [],
   "source": [
    "API_KEY = \"QCC4AQUW1ZKX4T7P\"\n",
    "symbol = \"AAPL\""
   ]
  },
  {
   "cell_type": "code",
   "execution_count": 59,
   "id": "2b5f6e67",
   "metadata": {},
   "outputs": [],
   "source": [
    "url = f\"https://www.alphavantage.co/query?function=TIME_SERIES_DAILY&symbol={symbol}&outputsize=full&apikey={API_KEY}&datatype=csv\""
   ]
  },
  {
   "cell_type": "code",
   "execution_count": 60,
   "id": "77478163",
   "metadata": {},
   "outputs": [],
   "source": [
    "response = requests.get(url)"
   ]
  },
  {
   "cell_type": "code",
   "execution_count": 61,
   "id": "6ec220fa",
   "metadata": {},
   "outputs": [
    {
     "name": "stdout",
     "output_type": "stream",
     "text": [
      "Data saved to AAPL_stock_data.csv\n"
     ]
    }
   ],
   "source": [
    "# print response\n",
    "if response.status_code == 200:\n",
    "    with open(f'{symbol}_stock_data.csv', 'wb') as file:\n",
    "        file.write(response.content)\n",
    "    print(f\"Data saved to {symbol}_stock_data.csv\")\n",
    "else:\n",
    "    print(f\"Failed to fetch data: {response.status_code}\")"
   ]
  },
  {
   "cell_type": "code",
   "execution_count": 62,
   "id": "ee520c3e",
   "metadata": {},
   "outputs": [],
   "source": [
    "# store the data in a pandas dataframe\n",
    "df = pd.read_csv(f'{symbol}_stock_data.csv', index_col=0, parse_dates=True)"
   ]
  },
  {
   "cell_type": "code",
   "execution_count": 63,
   "id": "c6ae2836",
   "metadata": {},
   "outputs": [
    {
     "name": "stdout",
     "output_type": "stream",
     "text": [
      "               open      high       low   close    volume\n",
      "timestamp                                                \n",
      "2025-06-27  201.890  203.2200  200.0000  201.08  73188571\n",
      "2025-06-30  202.010  207.3900  199.2607  205.17  91912816\n",
      "2025-07-01  206.665  210.1865  206.1401  207.82  78788867\n",
      "2025-07-02  208.910  213.3400  208.1400  212.44  67941811\n",
      "2025-07-03  212.145  214.6500  211.8101  213.55  34955836\n"
     ]
    }
   ],
   "source": [
    "df.index = pd.to_datetime(df.index)\n",
    "df = df.sort_index()\n",
    "print(df.tail())"
   ]
  },
  {
   "cell_type": "code",
   "execution_count": 64,
   "id": "8079fe4d",
   "metadata": {},
   "outputs": [
    {
     "name": "stdout",
     "output_type": "stream",
     "text": [
      "Column names: ['open', 'high', 'low', 'close', 'volume']\n"
     ]
    }
   ],
   "source": [
    "# show all column names\n",
    "print(\"Column names:\", df.columns.tolist())"
   ]
  },
  {
   "cell_type": "code",
   "execution_count": 65,
   "id": "9b01e5d0",
   "metadata": {},
   "outputs": [
    {
     "data": {
      "text/html": [
       "<div>\n",
       "<style scoped>\n",
       "    .dataframe tbody tr th:only-of-type {\n",
       "        vertical-align: middle;\n",
       "    }\n",
       "\n",
       "    .dataframe tbody tr th {\n",
       "        vertical-align: top;\n",
       "    }\n",
       "\n",
       "    .dataframe thead th {\n",
       "        text-align: right;\n",
       "    }\n",
       "</style>\n",
       "<table border=\"1\" class=\"dataframe\">\n",
       "  <thead>\n",
       "    <tr style=\"text-align: right;\">\n",
       "      <th></th>\n",
       "      <th>open</th>\n",
       "      <th>high</th>\n",
       "      <th>low</th>\n",
       "      <th>close</th>\n",
       "      <th>volume</th>\n",
       "    </tr>\n",
       "    <tr>\n",
       "      <th>timestamp</th>\n",
       "      <th></th>\n",
       "      <th></th>\n",
       "      <th></th>\n",
       "      <th></th>\n",
       "      <th></th>\n",
       "    </tr>\n",
       "  </thead>\n",
       "  <tbody>\n",
       "    <tr>\n",
       "      <th>2025-06-27</th>\n",
       "      <td>201.890</td>\n",
       "      <td>203.2200</td>\n",
       "      <td>200.0000</td>\n",
       "      <td>201.08</td>\n",
       "      <td>73188571</td>\n",
       "    </tr>\n",
       "    <tr>\n",
       "      <th>2025-06-30</th>\n",
       "      <td>202.010</td>\n",
       "      <td>207.3900</td>\n",
       "      <td>199.2607</td>\n",
       "      <td>205.17</td>\n",
       "      <td>91912816</td>\n",
       "    </tr>\n",
       "    <tr>\n",
       "      <th>2025-07-01</th>\n",
       "      <td>206.665</td>\n",
       "      <td>210.1865</td>\n",
       "      <td>206.1401</td>\n",
       "      <td>207.82</td>\n",
       "      <td>78788867</td>\n",
       "    </tr>\n",
       "    <tr>\n",
       "      <th>2025-07-02</th>\n",
       "      <td>208.910</td>\n",
       "      <td>213.3400</td>\n",
       "      <td>208.1400</td>\n",
       "      <td>212.44</td>\n",
       "      <td>67941811</td>\n",
       "    </tr>\n",
       "    <tr>\n",
       "      <th>2025-07-03</th>\n",
       "      <td>212.145</td>\n",
       "      <td>214.6500</td>\n",
       "      <td>211.8101</td>\n",
       "      <td>213.55</td>\n",
       "      <td>34955836</td>\n",
       "    </tr>\n",
       "  </tbody>\n",
       "</table>\n",
       "</div>"
      ],
      "text/plain": [
       "               open      high       low   close    volume\n",
       "timestamp                                                \n",
       "2025-06-27  201.890  203.2200  200.0000  201.08  73188571\n",
       "2025-06-30  202.010  207.3900  199.2607  205.17  91912816\n",
       "2025-07-01  206.665  210.1865  206.1401  207.82  78788867\n",
       "2025-07-02  208.910  213.3400  208.1400  212.44  67941811\n",
       "2025-07-03  212.145  214.6500  211.8101  213.55  34955836"
      ]
     },
     "execution_count": 65,
     "metadata": {},
     "output_type": "execute_result"
    }
   ],
   "source": [
    "df.tail()"
   ]
  },
  {
   "cell_type": "code",
   "execution_count": 66,
   "id": "82df34e3",
   "metadata": {},
   "outputs": [],
   "source": [
    "# Add multiple indicators\n",
    "df.ta.rsi(append=True)                      # RSI\n",
    "df.ta.macd(append=True)                     # MACD (MACDEXT style)\n",
    "df.ta.ema(length=20, append=True)           # EMA20\n",
    "df.ta.sma(length=50, append=True)           # SMA50\n",
    "df.ta.obv(append=True)                      # On Balance Volume\n",
    "df.ta.bbands(append=True)                   # Bollinger Bands\n",
    "df.ta.cci(append=True)                      # CCI\n",
    "df.ta.atr(append=True)                      # ATR\n",
    "\n",
    "# Clean up: Drop NaN values created by indicators (lookback periods)\n",
    "df.dropna(inplace=True)"
   ]
  },
  {
   "cell_type": "code",
   "execution_count": 67,
   "id": "76422685",
   "metadata": {},
   "outputs": [],
   "source": [
    "# Calculate ADX with 14-day period (default)\n",
    "adx = ta.adx(df['high'], df['low'], df['close'])\n",
    "\n",
    "# Merge into your main DataFrame\n",
    "df = pd.concat([df, adx], axis=1)\n",
    "\n",
    "# Optional: Simplify naming\n",
    "df.rename(columns={\n",
    "    'ADX_14': 'ADX',\n",
    "    'DMP_14': 'DI+',\n",
    "    'DMN_14': 'DI-'\n",
    "}, inplace=True)"
   ]
  },
  {
   "cell_type": "code",
   "execution_count": 68,
   "id": "6bb91cdc",
   "metadata": {},
   "outputs": [],
   "source": [
    "def trend_direction(row):\n",
    "    if row['ADX'] > 25:\n",
    "        if row['DI+'] > row['DI-']:\n",
    "            return 1   # strong uptrend\n",
    "        else:\n",
    "            return -1  # strong downtrend\n",
    "    return 0  # no clear trend\n",
    "\n",
    "df['trend_signal'] = df.apply(trend_direction, axis=1)"
   ]
  },
  {
   "cell_type": "code",
   "execution_count": 69,
   "id": "c9e843d6",
   "metadata": {},
   "outputs": [],
   "source": [
    "# Calculate MA\n",
    "df['MA100'] = df['close'].rolling(100).mean()\n",
    "df['MA200'] = df['close'].rolling(200).mean()\n",
    "df['MA_signal'] = (df['MA100'] > df['MA200']).astype(int)\n",
    "\n",
    "# Drop NA\n",
    "df = df.dropna()"
   ]
  },
  {
   "cell_type": "code",
   "execution_count": 70,
   "id": "b7995bfb",
   "metadata": {},
   "outputs": [],
   "source": [
    "# 1️⃣ Select features\n",
    "features = ['open', 'high', 'low', 'close', 'volume',\n",
    "            'RSI_14', 'MACD_12_26_9', 'MACDh_12_26_9', 'MACDs_12_26_9',\n",
    "            'EMA_20', 'SMA_50', 'OBV', 'BBL_5_2.0', 'BBM_5_2.0', 'BBU_5_2.0',\n",
    "            'BBB_5_2.0', 'BBP_5_2.0', 'CCI_14_0.015', 'ATRr_14',\n",
    "            'ADX', 'DI+', 'DI-', 'trend_signal', 'MA100', 'MA200', 'MA_signal']\n",
    "\n",
    "# 2️⃣ Scaling features\n",
    "scaler = MinMaxScaler()\n",
    "scaled_data = scaler.fit_transform(df[features])\n",
    "\n",
    "# 3️⃣ Create sequences\n",
    "X = []\n",
    "y = []\n",
    "\n",
    "sequence_length = 60  # last 60 days\n",
    "target_col_index = features.index('close')  # we'll predict next 'close' price\n",
    "\n",
    "for i in range(sequence_length, len(scaled_data)):\n",
    "    X.append(scaled_data[i - sequence_length:i])\n",
    "    y.append(scaled_data[i][target_col_index])  # predicting close price\n",
    "\n",
    "X, y = np.array(X), np.array(y)\n",
    "\n",
    "# 4️⃣ Split into train/test\n",
    "X_train, X_test, y_train, y_test = train_test_split(X, y, test_size=0.3, shuffle=False)"
   ]
  },
  {
   "cell_type": "code",
   "execution_count": 71,
   "id": "af220322",
   "metadata": {},
   "outputs": [],
   "source": [
    "# remove target column from X\n",
    "X_train = np.delete(X_train, target_col_index, axis=2)\n",
    "X_test = np.delete(X_test, target_col_index, axis=2)\n"
   ]
  },
  {
   "cell_type": "code",
   "execution_count": 76,
   "id": "9449a3fd",
   "metadata": {},
   "outputs": [],
   "source": [
    "def create_model():\n",
    "    model = Sequential()\n",
    "    model.add(LSTM(units=128, return_sequences=True, input_shape=(X_train.shape[1], X_train.shape[2])))\n",
    "    model.add(Dropout(0.2))\n",
    "    model.add(LSTM(units=64, return_sequences=False))\n",
    "    model.add(Dropout(0.2))\n",
    "    model.add(Dense(units=1))  # Predicting the closing price\n",
    "\n",
    "    model.compile(optimizer='adam', loss='mean_squared_error')\n",
    "    return model"
   ]
  },
  {
   "cell_type": "code",
   "execution_count": 77,
   "id": "f360599a",
   "metadata": {},
   "outputs": [
    {
     "name": "stdout",
     "output_type": "stream",
     "text": [
      "Model: \"sequential_3\"\n",
      "_________________________________________________________________\n",
      " Layer (type)                Output Shape              Param #   \n",
      "=================================================================\n",
      " lstm_6 (LSTM)               (None, 60, 128)           78848     \n",
      "                                                                 \n",
      " dropout_6 (Dropout)         (None, 60, 128)           0         \n",
      "                                                                 \n",
      " lstm_7 (LSTM)               (None, 64)                49408     \n",
      "                                                                 \n",
      " dropout_7 (Dropout)         (None, 64)                0         \n",
      "                                                                 \n",
      " dense_3 (Dense)             (None, 1)                 65        \n",
      "                                                                 \n",
      "=================================================================\n",
      "Total params: 128,321\n",
      "Trainable params: 128,321\n",
      "Non-trainable params: 0\n",
      "_________________________________________________________________\n"
     ]
    }
   ],
   "source": [
    "model = create_model()\n",
    "model.summary()"
   ]
  },
  {
   "cell_type": "code",
   "execution_count": 74,
   "id": "29c67113",
   "metadata": {},
   "outputs": [],
   "source": [
    "# Delete the model object\n",
    "# del model\n",
    "\n",
    "# Clear the Keras backend session to release memory and reset states\n",
    "# K.clear_session()"
   ]
  },
  {
   "cell_type": "code",
   "execution_count": 78,
   "id": "f7d505ac",
   "metadata": {},
   "outputs": [
    {
     "name": "stdout",
     "output_type": "stream",
     "text": [
      "Epoch 1/30\n",
      "122/122 [==============================] - 8s 49ms/step - loss: 0.0060 - val_loss: 0.0025\n",
      "Epoch 2/30\n",
      "122/122 [==============================] - 5s 41ms/step - loss: 0.0026 - val_loss: 4.3483e-04\n",
      "Epoch 3/30\n",
      "122/122 [==============================] - 5s 39ms/step - loss: 0.0018 - val_loss: 0.0016\n",
      "Epoch 4/30\n",
      "122/122 [==============================] - 5s 39ms/step - loss: 0.0017 - val_loss: 1.2201e-04\n",
      "Epoch 5/30\n",
      "122/122 [==============================] - 5s 39ms/step - loss: 0.0017 - val_loss: 6.0827e-05\n",
      "Epoch 6/30\n",
      "122/122 [==============================] - 5s 39ms/step - loss: 0.0017 - val_loss: 8.3291e-05\n",
      "Epoch 7/30\n",
      "122/122 [==============================] - 5s 39ms/step - loss: 0.0013 - val_loss: 3.1599e-04\n",
      "Epoch 8/30\n",
      "122/122 [==============================] - 5s 40ms/step - loss: 0.0015 - val_loss: 1.9842e-04\n",
      "Epoch 9/30\n",
      "122/122 [==============================] - 5s 39ms/step - loss: 0.0013 - val_loss: 1.0372e-04\n",
      "Epoch 10/30\n",
      "122/122 [==============================] - 5s 39ms/step - loss: 0.0013 - val_loss: 1.4990e-04\n",
      "Epoch 11/30\n",
      "122/122 [==============================] - 5s 39ms/step - loss: 0.0012 - val_loss: 5.0389e-05\n",
      "Epoch 12/30\n",
      "122/122 [==============================] - 5s 39ms/step - loss: 0.0010 - val_loss: 1.5801e-04\n",
      "Epoch 13/30\n",
      "122/122 [==============================] - 5s 40ms/step - loss: 0.0012 - val_loss: 3.9535e-05\n",
      "Epoch 14/30\n",
      "122/122 [==============================] - 5s 40ms/step - loss: 0.0013 - val_loss: 1.8908e-04\n",
      "Epoch 15/30\n",
      "122/122 [==============================] - 5s 40ms/step - loss: 0.0010 - val_loss: 7.5123e-05\n",
      "Epoch 16/30\n",
      "122/122 [==============================] - 5s 40ms/step - loss: 9.8510e-04 - val_loss: 2.9652e-04\n",
      "Epoch 17/30\n",
      "122/122 [==============================] - 5s 40ms/step - loss: 0.0010 - val_loss: 6.5830e-05\n",
      "Epoch 18/30\n",
      "122/122 [==============================] - 5s 41ms/step - loss: 8.8373e-04 - val_loss: 3.2176e-05\n",
      "Epoch 19/30\n",
      "122/122 [==============================] - 5s 40ms/step - loss: 8.5507e-04 - val_loss: 4.7506e-05\n",
      "Epoch 20/30\n",
      "122/122 [==============================] - 5s 40ms/step - loss: 8.9011e-04 - val_loss: 4.4041e-05\n",
      "Epoch 21/30\n",
      "122/122 [==============================] - 5s 41ms/step - loss: 9.0884e-04 - val_loss: 4.5170e-05\n",
      "Epoch 22/30\n",
      "122/122 [==============================] - 5s 40ms/step - loss: 8.2657e-04 - val_loss: 5.5076e-05\n",
      "Epoch 23/30\n",
      "122/122 [==============================] - 5s 41ms/step - loss: 8.7307e-04 - val_loss: 2.1303e-04\n",
      "Epoch 24/30\n",
      "122/122 [==============================] - 5s 40ms/step - loss: 8.5786e-04 - val_loss: 1.9615e-04\n",
      "Epoch 25/30\n",
      "122/122 [==============================] - 5s 40ms/step - loss: 8.1025e-04 - val_loss: 1.8844e-05\n",
      "Epoch 26/30\n",
      "122/122 [==============================] - 5s 40ms/step - loss: 9.6018e-04 - val_loss: 4.0405e-05\n",
      "Epoch 27/30\n",
      "122/122 [==============================] - 5s 39ms/step - loss: 8.9147e-04 - val_loss: 8.7277e-05\n",
      "Epoch 28/30\n",
      "122/122 [==============================] - 5s 39ms/step - loss: 7.9519e-04 - val_loss: 1.3702e-04\n",
      "Epoch 29/30\n",
      "122/122 [==============================] - 5s 39ms/step - loss: 0.0011 - val_loss: 2.8596e-05\n",
      "Epoch 30/30\n",
      "122/122 [==============================] - 5s 39ms/step - loss: 7.6043e-04 - val_loss: 3.5345e-05\n"
     ]
    }
   ],
   "source": [
    "history = model.fit(\n",
    "    X_train, y_train,\n",
    "    epochs=30,\n",
    "    batch_size=32,\n",
    "    validation_split=0.1\n",
    ")"
   ]
  },
  {
   "cell_type": "code",
   "execution_count": 79,
   "id": "dfa57da1",
   "metadata": {},
   "outputs": [
    {
     "name": "stdout",
     "output_type": "stream",
     "text": [
      "58/58 [==============================] - 1s 15ms/step\n"
     ]
    },
    {
     "data": {
      "image/png": "[encoded data removed]",
      "text/plain": [
       "<Figure size 1200x600 with 1 Axes>"
      ]
     },
     "metadata": {},
     "output_type": "display_data"
    }
   ],
   "source": [
    "# Predict\n",
    "y_pred = model.predict(X_test)\n",
    "\n",
    "# Inverse transform (optional)\n",
    "# To get actual prices, you must inverse only the close column\n",
    "# So extract only that column from original scaled data\n",
    "close_scaler = MinMaxScaler()\n",
    "close_scaler.fit(df[['close']])\n",
    "y_pred_actual = close_scaler.inverse_transform(y_pred.reshape(-1, 1))\n",
    "y_test_actual = close_scaler.inverse_transform(y_test.reshape(-1, 1))\n",
    "\n",
    "# Plot results\n",
    "plt.figure(figsize=(12, 6))\n",
    "plt.plot(y_test_actual, label='Actual Close Price')\n",
    "plt.plot(y_pred_actual, label='Predicted Close Price')\n",
    "plt.legend()\n",
    "plt.title('LSTM Close Price Prediction')\n",
    "plt.xlabel('Time')\n",
    "plt.ylabel('Price')\n",
    "plt.show()\n"
   ]
  },
  {
   "cell_type": "code",
   "execution_count": 80,
   "id": "3b7932ed",
   "metadata": {},
   "outputs": [
    {
     "name": "stdout",
     "output_type": "stream",
     "text": [
      "📊 Evaluation Metrics:\n",
      "MAE  (Mean Absolute Error): 5.5913\n",
      "MSE  (Mean Squared Error):  133.2524\n",
      "RMSE (Root Mean Squared Error): 11.5435\n",
      "R² Score (R2): 0.9621\n",
      "MAPE (Mean Absolute Percentage Error): 3.00%\n"
     ]
    }
   ],
   "source": [
    "# Inverse transform to get actual prices\n",
    "y_pred_actual = close_scaler.inverse_transform(y_pred.reshape(-1, 1))\n",
    "y_test_actual = close_scaler.inverse_transform(y_test.reshape(-1, 1))\n",
    "\n",
    "# Flatten arrays\n",
    "y_pred_actual = y_pred_actual.flatten()\n",
    "y_test_actual = y_test_actual.flatten()\n",
    "\n",
    "# 1️⃣ MAE\n",
    "mae = mean_absolute_error(y_test_actual, y_pred_actual)\n",
    "\n",
    "# 2️⃣ MSE\n",
    "mse = mean_squared_error(y_test_actual, y_pred_actual)\n",
    "\n",
    "# 3️⃣ RMSE\n",
    "rmse = np.sqrt(mse)\n",
    "\n",
    "# 4️⃣ R^2 Score\n",
    "r2 = r2_score(y_test_actual, y_pred_actual)\n",
    "\n",
    "# 5️⃣ MAPE (Optional - Mean Absolute Percentage Error)\n",
    "mape = np.mean(np.abs((y_test_actual - y_pred_actual) / y_test_actual)) * 100\n",
    "\n",
    "# 🔍 Print Results\n",
    "print(\"📊 Evaluation Metrics:\")\n",
    "print(f\"MAE  (Mean Absolute Error): {mae:.4f}\")\n",
    "print(f\"MSE  (Mean Squared Error):  {mse:.4f}\")\n",
    "print(f\"RMSE (Root Mean Squared Error): {rmse:.4f}\")\n",
    "print(f\"R² Score (R2): {r2:.4f}\")\n",
    "print(f\"MAPE (Mean Absolute Percentage Error): {mape:.2f}%\")\n"
   ]
  },
  {
   "cell_type": "code",
   "execution_count": null,
   "id": "fb69a369",
   "metadata": {},
   "outputs": [
    {
     "name": "stdout",
     "output_type": "stream",
     "text": [
      "                 open       high        low      close  volume      RSI  \\\n",
      "timestamp                                                                 \n",
      "2025-07-04  3401.1001  3426.0000  3388.6499  3420.9500  170988  47.6243   \n",
      "2025-07-03  3434.8999  3435.0000  3398.1499  3400.7500  113506  44.2725   \n",
      "2025-07-02  3450.0500  3489.8501  3420.1001  3423.3501   54493  47.4255   \n",
      "2025-07-01  3460.9500  3485.0000  3414.4500  3429.4500  221565  48.2875   \n",
      "2025-06-30  3444.9500  3465.0000  3430.1499  3461.0500   80588  52.9134   \n",
      "\n",
      "                 SMA        EMA  Real Upper Band  Real Middle Band  \\\n",
      "timestamp                                                            \n",
      "2025-07-04  3434.860  3436.4619        3501.4278         3440.5700   \n",
      "2025-07-03  3437.185  3444.3201        3503.7413         3438.8075   \n",
      "2025-07-02  3438.565  3446.4134        3506.7391         3437.3675   \n",
      "2025-07-01  3445.995  3445.6053        3508.7152         3435.2275   \n",
      "2025-06-30  3450.900  3442.1954        3510.5360         3432.5075   \n",
      "\n",
      "            Real Lower Band  \n",
      "timestamp                    \n",
      "2025-07-04        3379.7122  \n",
      "2025-07-03        3373.8737  \n",
      "2025-07-02        3367.9959  \n",
      "2025-07-01        3361.7398  \n",
      "2025-06-30        3354.4790  \n"
     ]
    }
   ],
   "source": [
    "# Filter data from the last 3 years\n",
    "cutoff_date = datetime.now() - timedelta(days=3*365)\n",
    "df_recent = df[df.index >= cutoff_date]\n",
    "\n",
    "print(df_recent.head())"
   ]
  },
  {
   "cell_type": "code",
   "execution_count": null,
   "id": "a3ca3601",
   "metadata": {},
   "outputs": [],
   "source": [
    "def get_news_headlines(keyword=\"TCS\", num_days=30):\n",
    "    headlines = {}\n",
    "\n",
    "    for i in range(num_days):\n",
    "        date = datetime.now() - timedelta(days=i)\n",
    "        formatted_date = date.strftime('%Y-%m-%d')\n",
    "        \n",
    "        # Google News RSS (can filter date later)\n",
    "        url = f\"https://news.google.com/rss/search?q={keyword}+when:{i}d\"\n",
    "        r = requests.get(url)\n",
    "        soup = BeautifulSoup(r.content, features=\"html.parser\")\n",
    "        items = soup.findAll(\"item\")\n",
    "\n",
    "        headlines[formatted_date] = [item.title.text for item in items]\n",
    "\n",
    "    return headlines\n"
   ]
  },
  {
   "cell_type": "code",
   "execution_count": null,
   "id": "c2412013",
   "metadata": {},
   "outputs": [],
   "source": [
    "def compute_daily_sentiment(headlines_dict):\n",
    "    analyzer = SentimentIntensityAnalyzer()\n",
    "    sentiment_scores = {}\n",
    "\n",
    "    for date, titles in headlines_dict.items():\n",
    "        scores = [analyzer.polarity_scores(title)['compound'] for title in titles]\n",
    "        avg_score = sum(scores) / len(scores) if scores else 0\n",
    "        sentiment_scores[date] = avg_score\n",
    "\n",
    "    return sentiment_scores"
   ]
  },
  {
   "cell_type": "code",
   "execution_count": null,
   "id": "2a6400ba",
   "metadata": {},
   "outputs": [
    {
     "name": "stderr",
     "output_type": "stream",
     "text": [
      "c:\\Users\\DELL\\AppData\\Local\\Programs\\Python\\Python310\\lib\\site-packages\\bs4\\builder\\__init__.py:545: XMLParsedAsHTMLWarning: It looks like you're parsing an XML document using an HTML parser. If this really is an HTML document (maybe it's XHTML?), you can ignore or filter this warning. If it's XML, you should know that using an XML parser will be more reliable. To parse this document as XML, make sure you have the lxml package installed, and pass the keyword argument `features=\"xml\"` into the BeautifulSoup constructor.\n",
      "  warnings.warn(\n"
     ]
    }
   ],
   "source": [
    "headline_data = get_news_headlines(\"Reliance Industry\", num_days=365*3)\n",
    "sentiment_scores = compute_daily_sentiment(headline_data)\n",
    "\n",
    "sentiment_df = pd.DataFrame(list(sentiment_scores.items()), columns=['Date', 'Sentiment'])\n",
    "sentiment_df['Date'] = pd.to_datetime(sentiment_df['Date'])\n",
    "sentiment_df.set_index('Date', inplace=True)"
   ]
  },
  {
   "cell_type": "code",
   "execution_count": null,
   "id": "fb165f1d",
   "metadata": {},
   "outputs": [],
   "source": []
  }
 ],
 "metadata": {
  "kernelspec": {
   "display_name": "Python 3",
   "language": "python",
   "name": "python3"
  },
  "language_info": {
   "codemirror_mode": {
    "name": "ipython",
    "version": 3
   },
   "file_extension": ".py",
   "mimetype": "text/x-python",
   "name": "python",
   "nbconvert_exporter": "python",
   "pygments_lexer": "ipython3",
   "version": "3.10.11"
  }
 },
 "nbformat": 4,
 "nbformat_minor": 5
}
