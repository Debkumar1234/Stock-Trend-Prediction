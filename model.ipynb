{
 "cells": [
  {
   "cell_type": "code",
   "execution_count": 3,
   "id": "e60da194",
   "metadata": {},
   "outputs": [],
   "source": [
    "import pandas as pd\n",
    "import pandas_ta as ta\n",
    "import requests\n",
    "from datetime import datetime, timedelta\n",
    "import nltk\n",
    "from bs4 import BeautifulSoup\n",
    "from vaderSentiment.vaderSentiment import SentimentIntensityAnalyzer"
   ]
  },
  {
   "cell_type": "code",
   "execution_count": 4,
   "id": "251661cb",
   "metadata": {},
   "outputs": [],
   "source": [
    "API_KEY = \"QCC4AQUW1ZKX4T7P\"\n",
    "symbol = \"TCS.BSE\""
   ]
  },
  {
   "cell_type": "code",
   "execution_count": 5,
   "id": "2b5f6e67",
   "metadata": {},
   "outputs": [],
   "source": [
    "url = f\"https://www.alphavantage.co/query?function=TIME_SERIES_DAILY&symbol={symbol}&outputsize=full&apikey={API_KEY}&datatype=csv\""
   ]
  },
  {
   "cell_type": "code",
   "execution_count": 6,
   "id": "77478163",
   "metadata": {},
   "outputs": [],
   "source": [
    "response = requests.get(url)"
   ]
  },
  {
   "cell_type": "code",
   "execution_count": null,
   "id": "071ba98e",
   "metadata": {},
   "outputs": [],
   "source": []
  },
  {
   "cell_type": "code",
   "execution_count": null,
   "id": "58cf0d5d",
   "metadata": {},
   "outputs": [],
   "source": []
  },
  {
   "cell_type": "code",
   "execution_count": 7,
   "id": "6ec220fa",
   "metadata": {},
   "outputs": [
    {
     "name": "stdout",
     "output_type": "stream",
     "text": [
      "Data saved to tcs_stock_data.csv\n"
     ]
    }
   ],
   "source": [
    "# print response\n",
    "if response.status_code == 200:\n",
    "    with open('tcs_stock_data.csv', 'wb') as file:\n",
    "        file.write(response.content)\n",
    "    print(\"Data saved to tcs_stock_data.csv\")\n"
   ]
  },
  {
   "cell_type": "code",
   "execution_count": 18,
   "id": "ee520c3e",
   "metadata": {},
   "outputs": [],
   "source": [
    "# store the data in a pandas dataframe\n",
    "df = pd.read_csv('tcs_stock_data.csv', index_col=0, parse_dates=True)"
   ]
  },
  {
   "cell_type": "code",
   "execution_count": 19,
   "id": "c6ae2836",
   "metadata": {},
   "outputs": [
    {
     "name": "stdout",
     "output_type": "stream",
     "text": [
      "                 open       high        low      close  volume\n",
      "timestamp                                                     \n",
      "2025-06-30  3444.9500  3465.0000  3430.1499  3461.0500   80588\n",
      "2025-07-01  3460.9500  3485.0000  3414.4500  3429.4500  221565\n",
      "2025-07-02  3450.0500  3489.8501  3420.1001  3423.3501   54493\n",
      "2025-07-03  3434.8999  3435.0000  3398.1499  3400.7500  113506\n",
      "2025-07-04  3401.1001  3426.0000  3388.6499  3420.9500  170988\n"
     ]
    }
   ],
   "source": [
    "df.index = pd.to_datetime(df.index)\n",
    "df = df.sort_index()\n",
    "print(df.tail())"
   ]
  },
  {
   "cell_type": "code",
   "execution_count": 31,
   "id": "8079fe4d",
   "metadata": {},
   "outputs": [
    {
     "name": "stdout",
     "output_type": "stream",
     "text": [
      "Column names: ['open', 'high', 'low', 'close', 'volume', 'RSI_14', 'MACD_12_26_9', 'MACDh_12_26_9', 'MACDs_12_26_9', 'EMA_20', 'SMA_50', 'OBV', 'BBL_5_2.0', 'BBM_5_2.0', 'BBU_5_2.0', 'BBB_5_2.0', 'BBP_5_2.0', 'CCI_14_0.015', 'ATRr_14', 'ADX', 'DI+', 'DI-', 'trend_signal', 'MA100', 'MA200', 'MA_signal']\n"
     ]
    }
   ],
   "source": [
    "# show all column names\n",
    "print(\"Column names:\", df.columns.tolist())"
   ]
  },
  {
   "cell_type": "code",
   "execution_count": null,
   "id": "9b01e5d0",
   "metadata": {},
   "outputs": [],
   "source": [
    "df.tail()"
   ]
  },
  {
   "cell_type": "code",
   "execution_count": 20,
   "id": "82df34e3",
   "metadata": {},
   "outputs": [],
   "source": [
    "# Add multiple indicators\n",
    "df.ta.rsi(append=True)                      # RSI\n",
    "df.ta.macd(append=True)                     # MACD (MACDEXT style)\n",
    "df.ta.ema(length=20, append=True)           # EMA20\n",
    "df.ta.sma(length=50, append=True)           # SMA50\n",
    "df.ta.obv(append=True)                      # On Balance Volume\n",
    "df.ta.bbands(append=True)                   # Bollinger Bands\n",
    "df.ta.cci(append=True)                      # CCI\n",
    "df.ta.atr(append=True)                      # ATR\n",
    "\n",
    "# Clean up: Drop NaN values created by indicators (lookback periods)\n",
    "df.dropna(inplace=True)"
   ]
  },
  {
   "cell_type": "code",
   "execution_count": 22,
   "id": "76422685",
   "metadata": {},
   "outputs": [],
   "source": [
    "# Calculate ADX with 14-day period (default)\n",
    "adx = ta.adx(df['high'], df['low'], df['close'])\n",
    "\n",
    "# Merge into your main DataFrame\n",
    "df = pd.concat([df, adx], axis=1)\n",
    "\n",
    "# Optional: Simplify naming\n",
    "df.rename(columns={\n",
    "    'ADX_14': 'ADX',\n",
    "    'DMP_14': 'DI+',\n",
    "    'DMN_14': 'DI-'\n",
    "}, inplace=True)"
   ]
  },
  {
   "cell_type": "code",
   "execution_count": 23,
   "id": "6bb91cdc",
   "metadata": {},
   "outputs": [],
   "source": [
    "def trend_direction(row):\n",
    "    if row['ADX'] > 25:\n",
    "        if row['DI+'] > row['DI-']:\n",
    "            return 1   # strong uptrend\n",
    "        else:\n",
    "            return -1  # strong downtrend\n",
    "    return 0  # no clear trend\n",
    "\n",
    "df['trend_signal'] = df.apply(trend_direction, axis=1)"
   ]
  },
  {
   "cell_type": "code",
   "execution_count": 29,
   "id": "c9e843d6",
   "metadata": {},
   "outputs": [],
   "source": [
    "# Calculate MA\n",
    "df['MA100'] = df['close'].rolling(100).mean()\n",
    "df['MA200'] = df['close'].rolling(200).mean()\n",
    "df['MA_signal'] = (df['MA100'] > df['MA200']).astype(int)\n",
    "\n",
    "# Drop NA\n",
    "df = df.dropna()"
   ]
  },
  {
   "cell_type": "code",
   "execution_count": 49,
   "id": "fb69a369",
   "metadata": {},
   "outputs": [
    {
     "name": "stdout",
     "output_type": "stream",
     "text": [
      "                 open       high        low      close  volume      RSI  \\\n",
      "timestamp                                                                 \n",
      "2025-07-04  3401.1001  3426.0000  3388.6499  3420.9500  170988  47.6243   \n",
      "2025-07-03  3434.8999  3435.0000  3398.1499  3400.7500  113506  44.2725   \n",
      "2025-07-02  3450.0500  3489.8501  3420.1001  3423.3501   54493  47.4255   \n",
      "2025-07-01  3460.9500  3485.0000  3414.4500  3429.4500  221565  48.2875   \n",
      "2025-06-30  3444.9500  3465.0000  3430.1499  3461.0500   80588  52.9134   \n",
      "\n",
      "                 SMA        EMA  Real Upper Band  Real Middle Band  \\\n",
      "timestamp                                                            \n",
      "2025-07-04  3434.860  3436.4619        3501.4278         3440.5700   \n",
      "2025-07-03  3437.185  3444.3201        3503.7413         3438.8075   \n",
      "2025-07-02  3438.565  3446.4134        3506.7391         3437.3675   \n",
      "2025-07-01  3445.995  3445.6053        3508.7152         3435.2275   \n",
      "2025-06-30  3450.900  3442.1954        3510.5360         3432.5075   \n",
      "\n",
      "            Real Lower Band  \n",
      "timestamp                    \n",
      "2025-07-04        3379.7122  \n",
      "2025-07-03        3373.8737  \n",
      "2025-07-02        3367.9959  \n",
      "2025-07-01        3361.7398  \n",
      "2025-06-30        3354.4790  \n"
     ]
    }
   ],
   "source": [
    "# Filter data from the last 3 years\n",
    "cutoff_date = datetime.now() - timedelta(days=3*365)\n",
    "df_recent = df[df.index >= cutoff_date]\n",
    "\n",
    "print(df_recent.head())"
   ]
  },
  {
   "cell_type": "code",
   "execution_count": 50,
   "id": "a3ca3601",
   "metadata": {},
   "outputs": [],
   "source": [
    "def get_news_headlines(keyword=\"TCS\", num_days=30):\n",
    "    headlines = {}\n",
    "\n",
    "    for i in range(num_days):\n",
    "        date = datetime.now() - timedelta(days=i)\n",
    "        formatted_date = date.strftime('%Y-%m-%d')\n",
    "        \n",
    "        # Google News RSS (can filter date later)\n",
    "        url = f\"https://news.google.com/rss/search?q={keyword}+when:{i}d\"\n",
    "        r = requests.get(url)\n",
    "        soup = BeautifulSoup(r.content, features=\"html.parser\")\n",
    "        items = soup.findAll(\"item\")\n",
    "\n",
    "        headlines[formatted_date] = [item.title.text for item in items]\n",
    "\n",
    "    return headlines\n"
   ]
  },
  {
   "cell_type": "code",
   "execution_count": 51,
   "id": "c2412013",
   "metadata": {},
   "outputs": [],
   "source": [
    "def compute_daily_sentiment(headlines_dict):\n",
    "    analyzer = SentimentIntensityAnalyzer()\n",
    "    sentiment_scores = {}\n",
    "\n",
    "    for date, titles in headlines_dict.items():\n",
    "        scores = [analyzer.polarity_scores(title)['compound'] for title in titles]\n",
    "        avg_score = sum(scores) / len(scores) if scores else 0\n",
    "        sentiment_scores[date] = avg_score\n",
    "\n",
    "    return sentiment_scores"
   ]
  },
  {
   "cell_type": "code",
   "execution_count": null,
   "id": "2a6400ba",
   "metadata": {},
   "outputs": [
    {
     "name": "stderr",
     "output_type": "stream",
     "text": [
      "c:\\Users\\DELL\\AppData\\Local\\Programs\\Python\\Python310\\lib\\site-packages\\bs4\\builder\\__init__.py:545: XMLParsedAsHTMLWarning: It looks like you're parsing an XML document using an HTML parser. If this really is an HTML document (maybe it's XHTML?), you can ignore or filter this warning. If it's XML, you should know that using an XML parser will be more reliable. To parse this document as XML, make sure you have the lxml package installed, and pass the keyword argument `features=\"xml\"` into the BeautifulSoup constructor.\n",
      "  warnings.warn(\n"
     ]
    }
   ],
   "source": [
    "headline_data = get_news_headlines(\"Reliance Industry\", num_days=365*3)\n",
    "sentiment_scores = compute_daily_sentiment(headline_data)\n",
    "\n",
    "sentiment_df = pd.DataFrame(list(sentiment_scores.items()), columns=['Date', 'Sentiment'])\n",
    "sentiment_df['Date'] = pd.to_datetime(sentiment_df['Date'])\n",
    "sentiment_df.set_index('Date', inplace=True)"
   ]
  },
  {
   "cell_type": "code",
   "execution_count": null,
   "id": "ec2047a2",
   "metadata": {},
   "outputs": [
    {
     "data": {
      "text/html": [
       "<div>\n",
       "<style scoped>\n",
       "    .dataframe tbody tr th:only-of-type {\n",
       "        vertical-align: middle;\n",
       "    }\n",
       "\n",
       "    .dataframe tbody tr th {\n",
       "        vertical-align: top;\n",
       "    }\n",
       "\n",
       "    .dataframe thead th {\n",
       "        text-align: right;\n",
       "    }\n",
       "</style>\n",
       "<table border=\"1\" class=\"dataframe\">\n",
       "  <thead>\n",
       "    <tr style=\"text-align: right;\">\n",
       "      <th></th>\n",
       "      <th>Sentiment</th>\n",
       "    </tr>\n",
       "    <tr>\n",
       "      <th>Date</th>\n",
       "      <th></th>\n",
       "    </tr>\n",
       "  </thead>\n",
       "  <tbody>\n",
       "    <tr>\n",
       "      <th>2025-07-05</th>\n",
       "      <td>0.162220</td>\n",
       "    </tr>\n",
       "    <tr>\n",
       "      <th>2025-07-04</th>\n",
       "      <td>0.290021</td>\n",
       "    </tr>\n",
       "    <tr>\n",
       "      <th>2025-07-03</th>\n",
       "      <td>0.212865</td>\n",
       "    </tr>\n",
       "    <tr>\n",
       "      <th>2025-07-02</th>\n",
       "      <td>0.158436</td>\n",
       "    </tr>\n",
       "    <tr>\n",
       "      <th>2025-07-01</th>\n",
       "      <td>0.075857</td>\n",
       "    </tr>\n",
       "    <tr>\n",
       "      <th>2025-06-30</th>\n",
       "      <td>0.096871</td>\n",
       "    </tr>\n",
       "    <tr>\n",
       "      <th>2025-06-29</th>\n",
       "      <td>0.084752</td>\n",
       "    </tr>\n",
       "    <tr>\n",
       "      <th>2025-06-28</th>\n",
       "      <td>0.100479</td>\n",
       "    </tr>\n",
       "    <tr>\n",
       "      <th>2025-06-27</th>\n",
       "      <td>0.100479</td>\n",
       "    </tr>\n",
       "    <tr>\n",
       "      <th>2025-06-26</th>\n",
       "      <td>0.113123</td>\n",
       "    </tr>\n",
       "    <tr>\n",
       "      <th>2025-06-25</th>\n",
       "      <td>0.121628</td>\n",
       "    </tr>\n",
       "    <tr>\n",
       "      <th>2025-06-24</th>\n",
       "      <td>0.123902</td>\n",
       "    </tr>\n",
       "    <tr>\n",
       "      <th>2025-06-23</th>\n",
       "      <td>0.134349</td>\n",
       "    </tr>\n",
       "    <tr>\n",
       "      <th>2025-06-22</th>\n",
       "      <td>0.136068</td>\n",
       "    </tr>\n",
       "    <tr>\n",
       "      <th>2025-06-21</th>\n",
       "      <td>0.126340</td>\n",
       "    </tr>\n",
       "    <tr>\n",
       "      <th>2025-06-20</th>\n",
       "      <td>0.132787</td>\n",
       "    </tr>\n",
       "    <tr>\n",
       "      <th>2025-06-19</th>\n",
       "      <td>0.127857</td>\n",
       "    </tr>\n",
       "    <tr>\n",
       "      <th>2025-06-18</th>\n",
       "      <td>0.117590</td>\n",
       "    </tr>\n",
       "    <tr>\n",
       "      <th>2025-06-17</th>\n",
       "      <td>0.125710</td>\n",
       "    </tr>\n",
       "    <tr>\n",
       "      <th>2025-06-16</th>\n",
       "      <td>0.134147</td>\n",
       "    </tr>\n",
       "    <tr>\n",
       "      <th>2025-06-15</th>\n",
       "      <td>0.123800</td>\n",
       "    </tr>\n",
       "    <tr>\n",
       "      <th>2025-06-14</th>\n",
       "      <td>0.119781</td>\n",
       "    </tr>\n",
       "    <tr>\n",
       "      <th>2025-06-13</th>\n",
       "      <td>0.130779</td>\n",
       "    </tr>\n",
       "    <tr>\n",
       "      <th>2025-06-12</th>\n",
       "      <td>0.111276</td>\n",
       "    </tr>\n",
       "    <tr>\n",
       "      <th>2025-06-11</th>\n",
       "      <td>0.137778</td>\n",
       "    </tr>\n",
       "    <tr>\n",
       "      <th>2025-06-10</th>\n",
       "      <td>0.152494</td>\n",
       "    </tr>\n",
       "    <tr>\n",
       "      <th>2025-06-09</th>\n",
       "      <td>0.154377</td>\n",
       "    </tr>\n",
       "    <tr>\n",
       "      <th>2025-06-08</th>\n",
       "      <td>0.178744</td>\n",
       "    </tr>\n",
       "    <tr>\n",
       "      <th>2025-06-07</th>\n",
       "      <td>0.192457</td>\n",
       "    </tr>\n",
       "    <tr>\n",
       "      <th>2025-06-06</th>\n",
       "      <td>0.197939</td>\n",
       "    </tr>\n",
       "    <tr>\n",
       "      <th>2025-06-05</th>\n",
       "      <td>0.177737</td>\n",
       "    </tr>\n",
       "    <tr>\n",
       "      <th>2025-06-04</th>\n",
       "      <td>0.171707</td>\n",
       "    </tr>\n",
       "    <tr>\n",
       "      <th>2025-06-03</th>\n",
       "      <td>0.168424</td>\n",
       "    </tr>\n",
       "    <tr>\n",
       "      <th>2025-06-02</th>\n",
       "      <td>0.163050</td>\n",
       "    </tr>\n",
       "    <tr>\n",
       "      <th>2025-06-01</th>\n",
       "      <td>0.174399</td>\n",
       "    </tr>\n",
       "    <tr>\n",
       "      <th>2025-05-31</th>\n",
       "      <td>0.167605</td>\n",
       "    </tr>\n",
       "    <tr>\n",
       "      <th>2025-05-30</th>\n",
       "      <td>0.161562</td>\n",
       "    </tr>\n",
       "    <tr>\n",
       "      <th>2025-05-29</th>\n",
       "      <td>0.154964</td>\n",
       "    </tr>\n",
       "    <tr>\n",
       "      <th>2025-05-28</th>\n",
       "      <td>0.154964</td>\n",
       "    </tr>\n",
       "    <tr>\n",
       "      <th>2025-05-27</th>\n",
       "      <td>0.156244</td>\n",
       "    </tr>\n",
       "  </tbody>\n",
       "</table>\n",
       "</div>"
      ],
      "text/plain": [
       "            Sentiment\n",
       "Date                 \n",
       "2025-07-05   0.162220\n",
       "2025-07-04   0.290021\n",
       "2025-07-03   0.212865\n",
       "2025-07-02   0.158436\n",
       "2025-07-01   0.075857\n",
       "2025-06-30   0.096871\n",
       "2025-06-29   0.084752\n",
       "2025-06-28   0.100479\n",
       "2025-06-27   0.100479\n",
       "2025-06-26   0.113123\n",
       "2025-06-25   0.121628\n",
       "2025-06-24   0.123902\n",
       "2025-06-23   0.134349\n",
       "2025-06-22   0.136068\n",
       "2025-06-21   0.126340\n",
       "2025-06-20   0.132787\n",
       "2025-06-19   0.127857\n",
       "2025-06-18   0.117590\n",
       "2025-06-17   0.125710\n",
       "2025-06-16   0.134147\n",
       "2025-06-15   0.123800\n",
       "2025-06-14   0.119781\n",
       "2025-06-13   0.130779\n",
       "2025-06-12   0.111276\n",
       "2025-06-11   0.137778\n",
       "2025-06-10   0.152494\n",
       "2025-06-09   0.154377\n",
       "2025-06-08   0.178744\n",
       "2025-06-07   0.192457\n",
       "2025-06-06   0.197939\n",
       "2025-06-05   0.177737\n",
       "2025-06-04   0.171707\n",
       "2025-06-03   0.168424\n",
       "2025-06-02   0.163050\n",
       "2025-06-01   0.174399\n",
       "2025-05-31   0.167605\n",
       "2025-05-30   0.161562\n",
       "2025-05-29   0.154964\n",
       "2025-05-28   0.154964\n",
       "2025-05-27   0.156244"
      ]
     },
     "execution_count": 72,
     "metadata": {},
     "output_type": "execute_result"
    }
   ],
   "source": [
    "sentiment_df.head(40)"
   ]
  },
  {
   "cell_type": "code",
   "execution_count": null,
   "id": "fb165f1d",
   "metadata": {},
   "outputs": [],
   "source": []
  }
 ],
 "metadata": {
  "kernelspec": {
   "display_name": "Python 3",
   "language": "python",
   "name": "python3"
  },
  "language_info": {
   "codemirror_mode": {
    "name": "ipython",
    "version": 3
   },
   "file_extension": ".py",
   "mimetype": "text/x-python",
   "name": "python",
   "nbconvert_exporter": "python",
   "pygments_lexer": "ipython3",
   "version": "3.10.11"
  }
 },
 "nbformat": 4,
 "nbformat_minor": 5
}
