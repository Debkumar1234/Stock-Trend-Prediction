{
 "cells": [
  {
   "cell_type": "code",
   "execution_count": 7,
   "id": "e60da194",
   "metadata": {},
   "outputs": [],
   "source": [
    "import pandas as pd\n",
    "import requests"
   ]
  },
  {
   "cell_type": "code",
   "execution_count": 31,
   "id": "251661cb",
   "metadata": {},
   "outputs": [],
   "source": [
    "API_KEY = \"QCC4AQUW1ZKX4T7P\"\n",
    "symbol = \"TCS.BSE\""
   ]
  },
  {
   "cell_type": "code",
   "execution_count": 32,
   "id": "2b5f6e67",
   "metadata": {},
   "outputs": [],
   "source": [
    "url = f\"https://www.alphavantage.co/query?function=TIME_SERIES_DAILY&symbol=${symbol}&outputsize=full&apikey=${API_KEY}&datatype=csv\""
   ]
  },
  {
   "cell_type": "code",
   "execution_count": 20,
   "id": "77478163",
   "metadata": {},
   "outputs": [],
   "source": [
    "response = requests.get(url)"
   ]
  },
  {
   "cell_type": "code",
   "execution_count": 21,
   "id": "6ec220fa",
   "metadata": {},
   "outputs": [
    {
     "name": "stdout",
     "output_type": "stream",
     "text": [
      "Data saved to tcs_stock_data.csv\n"
     ]
    }
   ],
   "source": [
    "# print response\n",
    "if response.status_code == 200:\n",
    "    with open('tcs_stock_data.csv', 'wb') as file:\n",
    "        file.write(response.content)\n",
    "    print(\"Data saved to tcs_stock_data.csv\")\n"
   ]
  },
  {
   "cell_type": "code",
   "execution_count": 36,
   "id": "ee520c3e",
   "metadata": {},
   "outputs": [],
   "source": [
    "# store the data in a pandas dataframe\n",
    "df = pd.read_csv('tcs_stock_data.csv', index_col=0, parse_dates=True)"
   ]
  },
  {
   "cell_type": "code",
   "execution_count": 37,
   "id": "c6ae2836",
   "metadata": {},
   "outputs": [
    {
     "name": "stdout",
     "output_type": "stream",
     "text": [
      "                 open       high        low      close  volume\n",
      "timestamp                                                     \n",
      "2025-06-30  3444.9500  3465.0000  3430.1499  3461.0500   80588\n",
      "2025-07-01  3460.9500  3485.0000  3414.4500  3429.4500  221565\n",
      "2025-07-02  3450.0500  3489.8501  3420.1001  3423.3501   54493\n",
      "2025-07-03  3434.8999  3435.0000  3398.1499  3400.7500  113506\n",
      "2025-07-04  3401.1001  3426.0000  3388.6499  3420.9500  170988\n"
     ]
    }
   ],
   "source": [
    "df.index = pd.to_datetime(df.index)\n",
    "df = df.sort_index()\n",
    "print(df.tail())"
   ]
  },
  {
   "cell_type": "code",
   "execution_count": 38,
   "id": "9b01e5d0",
   "metadata": {},
   "outputs": [
    {
     "data": {
      "text/html": [
       "<div>\n",
       "<style scoped>\n",
       "    .dataframe tbody tr th:only-of-type {\n",
       "        vertical-align: middle;\n",
       "    }\n",
       "\n",
       "    .dataframe tbody tr th {\n",
       "        vertical-align: top;\n",
       "    }\n",
       "\n",
       "    .dataframe thead th {\n",
       "        text-align: right;\n",
       "    }\n",
       "</style>\n",
       "<table border=\"1\" class=\"dataframe\">\n",
       "  <thead>\n",
       "    <tr style=\"text-align: right;\">\n",
       "      <th></th>\n",
       "      <th>open</th>\n",
       "      <th>high</th>\n",
       "      <th>low</th>\n",
       "      <th>close</th>\n",
       "      <th>volume</th>\n",
       "    </tr>\n",
       "    <tr>\n",
       "      <th>timestamp</th>\n",
       "      <th></th>\n",
       "      <th></th>\n",
       "      <th></th>\n",
       "      <th></th>\n",
       "      <th></th>\n",
       "    </tr>\n",
       "  </thead>\n",
       "  <tbody>\n",
       "    <tr>\n",
       "      <th>2005-01-03</th>\n",
       "      <td>168.7250</td>\n",
       "      <td>169.7500</td>\n",
       "      <td>167.2814</td>\n",
       "      <td>169.1500</td>\n",
       "      <td>1185200</td>\n",
       "    </tr>\n",
       "    <tr>\n",
       "      <th>2005-01-04</th>\n",
       "      <td>168.8438</td>\n",
       "      <td>169.5000</td>\n",
       "      <td>166.7500</td>\n",
       "      <td>167.5438</td>\n",
       "      <td>1312656</td>\n",
       "    </tr>\n",
       "    <tr>\n",
       "      <th>2005-01-05</th>\n",
       "      <td>166.2500</td>\n",
       "      <td>167.2626</td>\n",
       "      <td>160.1250</td>\n",
       "      <td>165.6000</td>\n",
       "      <td>3669696</td>\n",
       "    </tr>\n",
       "    <tr>\n",
       "      <th>2005-01-06</th>\n",
       "      <td>165.8750</td>\n",
       "      <td>168.1250</td>\n",
       "      <td>161.5188</td>\n",
       "      <td>164.9876</td>\n",
       "      <td>3441640</td>\n",
       "    </tr>\n",
       "    <tr>\n",
       "      <th>2005-01-07</th>\n",
       "      <td>166.2500</td>\n",
       "      <td>168.0876</td>\n",
       "      <td>163.8876</td>\n",
       "      <td>167.4250</td>\n",
       "      <td>2627176</td>\n",
       "    </tr>\n",
       "  </tbody>\n",
       "</table>\n",
       "</div>"
      ],
      "text/plain": [
       "                open      high       low     close   volume\n",
       "timestamp                                                  \n",
       "2005-01-03  168.7250  169.7500  167.2814  169.1500  1185200\n",
       "2005-01-04  168.8438  169.5000  166.7500  167.5438  1312656\n",
       "2005-01-05  166.2500  167.2626  160.1250  165.6000  3669696\n",
       "2005-01-06  165.8750  168.1250  161.5188  164.9876  3441640\n",
       "2005-01-07  166.2500  168.0876  163.8876  167.4250  2627176"
      ]
     },
     "execution_count": 38,
     "metadata": {},
     "output_type": "execute_result"
    }
   ],
   "source": [
    "df.head()"
   ]
  },
  {
   "cell_type": "markdown",
   "id": "90970be7",
   "metadata": {},
   "source": [
    "Call api for downloading RSI indicator data"
   ]
  },
  {
   "cell_type": "code",
   "execution_count": 33,
   "id": "084544a4",
   "metadata": {},
   "outputs": [],
   "source": [
    "rsi_url = f\"https://www.alphavantage.co/query?function=RSI&symbol={symbol}&interval=daily&time_period=14&series_type=close&apikey={API_KEY}\"\n",
    "rsi_data = requests.get(rsi_url).json()\n",
    "\n",
    "rsi_df = pd.DataFrame.from_dict(rsi_data['Technical Analysis: RSI'], orient='index')\n",
    "rsi_df = rsi_df.rename(columns={'RSI': 'RSI'})\n",
    "rsi_df.index = pd.to_datetime(rsi_df.index)\n",
    "rsi_df = rsi_df.astype(float)\n"
   ]
  },
  {
   "cell_type": "code",
   "execution_count": 34,
   "id": "60961892",
   "metadata": {},
   "outputs": [
    {
     "data": {
      "text/html": [
       "<div>\n",
       "<style scoped>\n",
       "    .dataframe tbody tr th:only-of-type {\n",
       "        vertical-align: middle;\n",
       "    }\n",
       "\n",
       "    .dataframe tbody tr th {\n",
       "        vertical-align: top;\n",
       "    }\n",
       "\n",
       "    .dataframe thead th {\n",
       "        text-align: right;\n",
       "    }\n",
       "</style>\n",
       "<table border=\"1\" class=\"dataframe\">\n",
       "  <thead>\n",
       "    <tr style=\"text-align: right;\">\n",
       "      <th></th>\n",
       "      <th>RSI</th>\n",
       "    </tr>\n",
       "  </thead>\n",
       "  <tbody>\n",
       "    <tr>\n",
       "      <th>2005-01-24</th>\n",
       "      <td>13.8729</td>\n",
       "    </tr>\n",
       "    <tr>\n",
       "      <th>2005-01-25</th>\n",
       "      <td>20.8349</td>\n",
       "    </tr>\n",
       "    <tr>\n",
       "      <th>2005-01-27</th>\n",
       "      <td>22.9666</td>\n",
       "    </tr>\n",
       "    <tr>\n",
       "      <th>2005-01-28</th>\n",
       "      <td>40.9205</td>\n",
       "    </tr>\n",
       "    <tr>\n",
       "      <th>2005-01-31</th>\n",
       "      <td>43.9547</td>\n",
       "    </tr>\n",
       "  </tbody>\n",
       "</table>\n",
       "</div>"
      ],
      "text/plain": [
       "                RSI\n",
       "2005-01-24  13.8729\n",
       "2005-01-25  20.8349\n",
       "2005-01-27  22.9666\n",
       "2005-01-28  40.9205\n",
       "2005-01-31  43.9547"
      ]
     },
     "execution_count": 34,
     "metadata": {},
     "output_type": "execute_result"
    }
   ],
   "source": [
    "rsi_df.head()"
   ]
  },
  {
   "cell_type": "markdown",
   "id": "0a5ef450",
   "metadata": {},
   "source": [
    "Merge RSI data with main df"
   ]
  },
  {
   "cell_type": "code",
   "execution_count": 40,
   "id": "4832421d",
   "metadata": {},
   "outputs": [],
   "source": [
    "# Align dates and merge\n",
    "df = df.merge(rsi_df, how='left', left_index=True, right_index=True)\n",
    "df.dropna(inplace=True)\n"
   ]
  },
  {
   "cell_type": "code",
   "execution_count": 50,
   "id": "3a3904af",
   "metadata": {},
   "outputs": [
    {
     "data": {
      "text/html": [
       "<div>\n",
       "<style scoped>\n",
       "    .dataframe tbody tr th:only-of-type {\n",
       "        vertical-align: middle;\n",
       "    }\n",
       "\n",
       "    .dataframe tbody tr th {\n",
       "        vertical-align: top;\n",
       "    }\n",
       "\n",
       "    .dataframe thead th {\n",
       "        text-align: right;\n",
       "    }\n",
       "</style>\n",
       "<table border=\"1\" class=\"dataframe\">\n",
       "  <thead>\n",
       "    <tr style=\"text-align: right;\">\n",
       "      <th></th>\n",
       "      <th>open</th>\n",
       "      <th>high</th>\n",
       "      <th>low</th>\n",
       "      <th>close</th>\n",
       "      <th>volume</th>\n",
       "      <th>RSI_x</th>\n",
       "      <th>RSI_y</th>\n",
       "      <th>SMA</th>\n",
       "      <th>EMA</th>\n",
       "    </tr>\n",
       "    <tr>\n",
       "      <th>timestamp</th>\n",
       "      <th></th>\n",
       "      <th></th>\n",
       "      <th></th>\n",
       "      <th></th>\n",
       "      <th></th>\n",
       "      <th></th>\n",
       "      <th></th>\n",
       "      <th></th>\n",
       "      <th></th>\n",
       "    </tr>\n",
       "  </thead>\n",
       "  <tbody>\n",
       "    <tr>\n",
       "      <th>2005-01-24</th>\n",
       "      <td>155.6250</td>\n",
       "      <td>156.125</td>\n",
       "      <td>151.875</td>\n",
       "      <td>152.4500</td>\n",
       "      <td>2069208</td>\n",
       "      <td>13.8729</td>\n",
       "      <td>13.8729</td>\n",
       "      <td>70.3920</td>\n",
       "      <td>69.8612</td>\n",
       "    </tr>\n",
       "    <tr>\n",
       "      <th>2005-01-25</th>\n",
       "      <td>152.0000</td>\n",
       "      <td>154.750</td>\n",
       "      <td>150.625</td>\n",
       "      <td>154.3376</td>\n",
       "      <td>1968368</td>\n",
       "      <td>20.8349</td>\n",
       "      <td>20.8349</td>\n",
       "      <td>69.6661</td>\n",
       "      <td>69.1353</td>\n",
       "    </tr>\n",
       "    <tr>\n",
       "      <th>2005-01-27</th>\n",
       "      <td>155.0000</td>\n",
       "      <td>156.625</td>\n",
       "      <td>154.500</td>\n",
       "      <td>154.9376</td>\n",
       "      <td>1682024</td>\n",
       "      <td>22.9666</td>\n",
       "      <td>22.9666</td>\n",
       "      <td>69.1678</td>\n",
       "      <td>68.7777</td>\n",
       "    </tr>\n",
       "    <tr>\n",
       "      <th>2005-01-28</th>\n",
       "      <td>155.6250</td>\n",
       "      <td>161.875</td>\n",
       "      <td>155.500</td>\n",
       "      <td>161.2250</td>\n",
       "      <td>2935592</td>\n",
       "      <td>40.9205</td>\n",
       "      <td>40.9205</td>\n",
       "      <td>68.7073</td>\n",
       "      <td>68.5344</td>\n",
       "    </tr>\n",
       "    <tr>\n",
       "      <th>2005-01-31</th>\n",
       "      <td>161.8688</td>\n",
       "      <td>164.000</td>\n",
       "      <td>161.375</td>\n",
       "      <td>162.5814</td>\n",
       "      <td>2620200</td>\n",
       "      <td>43.9547</td>\n",
       "      <td>43.9547</td>\n",
       "      <td>68.5229</td>\n",
       "      <td>68.8273</td>\n",
       "    </tr>\n",
       "  </tbody>\n",
       "</table>\n",
       "</div>"
      ],
      "text/plain": [
       "                open     high      low     close   volume    RSI_x    RSI_y  \\\n",
       "timestamp                                                                     \n",
       "2005-01-24  155.6250  156.125  151.875  152.4500  2069208  13.8729  13.8729   \n",
       "2005-01-25  152.0000  154.750  150.625  154.3376  1968368  20.8349  20.8349   \n",
       "2005-01-27  155.0000  156.625  154.500  154.9376  1682024  22.9666  22.9666   \n",
       "2005-01-28  155.6250  161.875  155.500  161.2250  2935592  40.9205  40.9205   \n",
       "2005-01-31  161.8688  164.000  161.375  162.5814  2620200  43.9547  43.9547   \n",
       "\n",
       "                SMA      EMA  \n",
       "timestamp                     \n",
       "2005-01-24  70.3920  69.8612  \n",
       "2005-01-25  69.6661  69.1353  \n",
       "2005-01-27  69.1678  68.7777  \n",
       "2005-01-28  68.7073  68.5344  \n",
       "2005-01-31  68.5229  68.8273  "
      ]
     },
     "execution_count": 50,
     "metadata": {},
     "output_type": "execute_result"
    }
   ],
   "source": [
    "df.head()"
   ]
  },
  {
   "cell_type": "markdown",
   "id": "b8968e3e",
   "metadata": {},
   "source": [
    "Call api for downloading SMA indicator data and add it to main df"
   ]
  },
  {
   "cell_type": "code",
   "execution_count": 46,
   "id": "14341841",
   "metadata": {},
   "outputs": [],
   "source": [
    "sma_url = f\"https://www.alphavantage.co/query?function=SMA&symbol={symbol}&interval=daily&time_period=10&series_type=open&apikey={API_KEY}\"\n",
    "sma_data = requests.get(sma_url).json()\n",
    "sma_df = pd.DataFrame.from_dict(sma_data['Technical Analysis: SMA'], orient='index')\n",
    "sma_df = sma_df.astype(float)\n",
    "sma_df.index = pd.to_datetime(sma_df.index)\n",
    "df = df.merge(sma_df, how='left', left_index=True, right_index=True)\n",
    "df.dropna(inplace=True)"
   ]
  },
  {
   "cell_type": "code",
   "execution_count": 49,
   "id": "c28fc2ce",
   "metadata": {},
   "outputs": [],
   "source": [
    "ema_url = f\"https://www.alphavantage.co/query?function=EMA&symbol={symbol}&interval=daily&time_period=10&series_type=open&apikey={API_KEY}\"\n",
    "ema_data = requests.get(ema_url).json()\n",
    "ema_df = pd.DataFrame.from_dict(ema_data['Technical Analysis: EMA'], orient='index')\n",
    "ema_df = ema_df.astype(float)\n",
    "ema_df.index = pd.to_datetime(ema_df.index)\n",
    "df = df.merge(ema_df, how='left', left_index=True, right_index=True)\n",
    "df.dropna(inplace=True)"
   ]
  },
  {
   "cell_type": "code",
   "execution_count": null,
   "id": "95793ea0",
   "metadata": {},
   "outputs": [],
   "source": []
  }
 ],
 "metadata": {
  "kernelspec": {
   "display_name": "Python 3",
   "language": "python",
   "name": "python3"
  },
  "language_info": {
   "codemirror_mode": {
    "name": "ipython",
    "version": 3
   },
   "file_extension": ".py",
   "mimetype": "text/x-python",
   "name": "python",
   "nbconvert_exporter": "python",
   "pygments_lexer": "ipython3",
   "version": "3.10.11"
  }
 },
 "nbformat": 4,
 "nbformat_minor": 5
}
